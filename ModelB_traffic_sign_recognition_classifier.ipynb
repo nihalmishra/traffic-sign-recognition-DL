{
 "cells": [
  {
   "cell_type": "code",
   "execution_count": 1,
   "metadata": {},
   "outputs": [
    {
     "name": "stderr",
     "output_type": "stream",
     "text": [
      "Using TensorFlow backend.\n"
     ]
    }
   ],
   "source": [
    "import os\n",
    "\n",
    "import numpy as np\n",
    "import pandas as pd\n",
    "import matplotlib.pyplot as plt\n",
    "from PIL import Image\n",
    "\n",
    "import tensorflow as tf\n",
    "from sklearn.model_selection import train_test_split\n",
    "from keras.utils import to_categorical\n",
    "from keras.models import Sequential\n",
    "from keras.layers import Conv2D, MaxPool2D, Dense, Flatten, Dropout\n",
    "from tensorflow.keras.preprocessing.image import ImageDataGenerator\n",
    "\n",
    "X_data = []\n",
    "Y_labels = []\n",
    "total_class = 43\n",
    "cur_dir = os.getcwd()\n",
    "dataset_dir = os.path.join(cur_dir, \"gtsrb-german-traffic-sign\")"
   ]
  },
  {
   "cell_type": "code",
   "execution_count": 2,
   "metadata": {},
   "outputs": [
    {
     "name": "stdout",
     "output_type": "stream",
     "text": [
      "[INFO] processed 1000 total images\n",
      "[INFO] processed 2000 total images\n",
      "[INFO] processed 3000 total images\n",
      "[INFO] processed 4000 total images\n",
      "[INFO] processed 5000 total images\n",
      "[INFO] processed 6000 total images\n",
      "[INFO] processed 7000 total images\n",
      "[INFO] processed 8000 total images\n",
      "[INFO] processed 9000 total images\n",
      "[INFO] processed 10000 total images\n",
      "[INFO] processed 11000 total images\n",
      "[INFO] processed 12000 total images\n",
      "[INFO] processed 13000 total images\n",
      "[INFO] processed 14000 total images\n",
      "[INFO] processed 15000 total images\n",
      "[INFO] processed 16000 total images\n",
      "[INFO] processed 17000 total images\n",
      "[INFO] processed 18000 total images\n",
      "[INFO] processed 19000 total images\n",
      "[INFO] processed 20000 total images\n",
      "[INFO] processed 21000 total images\n",
      "[INFO] processed 22000 total images\n",
      "[INFO] processed 23000 total images\n",
      "[INFO] processed 24000 total images\n",
      "[INFO] processed 25000 total images\n",
      "[INFO] processed 26000 total images\n",
      "[INFO] processed 27000 total images\n",
      "[INFO] processed 28000 total images\n",
      "[INFO] processed 29000 total images\n",
      "[INFO] processed 30000 total images\n",
      "[INFO] processed 31000 total images\n",
      "[INFO] processed 32000 total images\n",
      "[INFO] processed 33000 total images\n",
      "[INFO] processed 34000 total images\n",
      "[INFO] processed 35000 total images\n",
      "[INFO] processed 36000 total images\n",
      "[INFO] processed 37000 total images\n",
      "[INFO] processed 38000 total images\n",
      "[INFO] processed 39000 total images\n",
      "(39209, 30, 30, 3) (39209,)\n"
     ]
    }
   ],
   "source": [
    "count = 0\n",
    "for index in range(total_class):\n",
    "    path = os.path.join(dataset_dir, 'train', str(index))\n",
    "    images = os.listdir(path)\n",
    "\n",
    "# iterating over all images in the folder\n",
    "\n",
    "    for img in images:\n",
    "        try:\n",
    "            if count > 0 and count % 1000 == 0:\n",
    "                print(\"[INFO] processed {} total images\".format(count))\n",
    "            # preprocessing the image to size 30x30\n",
    "            image = Image.open(path + '\\\\' + img)\n",
    "            image = image.resize((30, 30))\n",
    "            image = np.array(image)\n",
    "\n",
    "            X_data.append(image)\n",
    "            Y_labels.append(index)\n",
    "            count+=1\n",
    "        except:\n",
    "                print(\"Error loading image\")\n",
    "\n",
    "X_data = np.array(X_data)\n",
    "Y_labels = np.array(Y_labels)\n",
    "\n",
    "print(X_data.shape, Y_labels.shape)"
   ]
  },
  {
   "cell_type": "code",
   "execution_count": 3,
   "metadata": {},
   "outputs": [
    {
     "name": "stdout",
     "output_type": "stream",
     "text": [
      "Shape of x_train:  (31367, 30, 30, 3)  and y_train:  (31367,)\n",
      "Shape of x_test:  (7842, 30, 30, 3)  and y_test:  (7842,)\n"
     ]
    }
   ],
   "source": [
    "x_train, x_test, y_train, y_test = train_test_split(X_data, Y_labels, test_size=0.2, random_state=42)\n",
    "\n",
    "print(\"Shape of x_train: \", x_train.shape, \" and y_train: \", y_train.shape)\n",
    "print(\"Shape of x_test: \", x_test.shape, \" and y_test: \", y_test.shape)\n",
    "\n",
    "# one hot encoding the labels\n",
    "\n",
    "y_train = to_categorical(y_train, 43)\n",
    "y_test = to_categorical(y_test, 43)"
   ]
  },
  {
   "cell_type": "code",
   "execution_count": 4,
   "metadata": {},
   "outputs": [
    {
     "name": "stdout",
     "output_type": "stream",
     "text": [
      "Model: \"sequential_1\"\n",
      "_________________________________________________________________\n",
      "Layer (type)                 Output Shape              Param #   \n",
      "=================================================================\n",
      "conv2d_1 (Conv2D)            (None, 26, 26, 32)        2432      \n",
      "_________________________________________________________________\n",
      "conv2d_2 (Conv2D)            (None, 22, 22, 32)        25632     \n",
      "_________________________________________________________________\n",
      "max_pooling2d_1 (MaxPooling2 (None, 11, 11, 32)        0         \n",
      "_________________________________________________________________\n",
      "conv2d_3 (Conv2D)            (None, 9, 9, 64)          18496     \n",
      "_________________________________________________________________\n",
      "conv2d_4 (Conv2D)            (None, 7, 7, 64)          36928     \n",
      "_________________________________________________________________\n",
      "max_pooling2d_2 (MaxPooling2 (None, 3, 3, 64)          0         \n",
      "_________________________________________________________________\n",
      "flatten_1 (Flatten)          (None, 576)               0         \n",
      "_________________________________________________________________\n",
      "dense_1 (Dense)              (None, 256)               147712    \n",
      "_________________________________________________________________\n",
      "dropout_1 (Dropout)          (None, 256)               0         \n",
      "_________________________________________________________________\n",
      "dense_2 (Dense)              (None, 43)                11051     \n",
      "=================================================================\n",
      "Total params: 242,251\n",
      "Trainable params: 242,251\n",
      "Non-trainable params: 0\n",
      "_________________________________________________________________\n"
     ]
    }
   ],
   "source": [
    "# contruct model with dropout layers to avoid over fitting\n",
    "model = Sequential()\n",
    "model.add(Conv2D(filters=32, kernel_size=(5,5), activation='relu', input_shape=x_train.shape[1:]))\n",
    "model.add(Conv2D(filters=32, kernel_size=(5,5), activation='relu'))\n",
    "model.add(MaxPool2D(pool_size=(2, 2)))\n",
    "model.add(Conv2D(filters=64, kernel_size=(3,3), activation='relu'))\n",
    "model.add(Conv2D(filters=64, kernel_size=(3,3), activation='relu'))\n",
    "model.add(MaxPool2D(pool_size=(2, 2)))\n",
    "model.add(Flatten())\n",
    "model.add(Dense(256, activation='relu'))\n",
    "model.add(Dropout(rate=0.5))\n",
    "model.add(Dense(total_class, activation='softmax'))\n",
    "\n",
    "model.compile(loss='categorical_crossentropy', optimizer='adam', metrics=['accuracy'])\n",
    "\n",
    "model.summary()"
   ]
  },
  {
   "cell_type": "code",
   "execution_count": 5,
   "metadata": {},
   "outputs": [
    {
     "name": "stdout",
     "output_type": "stream",
     "text": [
      "Train on 31367 samples, validate on 7842 samples\n",
      "Epoch 1/15\n",
      "31367/31367 [==============================] - 51s 2ms/step - loss: 1.6513 - accuracy: 0.6245 - val_loss: 0.3122 - val_accuracy: 0.9259\n",
      "Epoch 2/15\n",
      "31367/31367 [==============================] - 55s 2ms/step - loss: 0.3242 - accuracy: 0.9163 - val_loss: 0.1196 - val_accuracy: 0.9722\n",
      "Epoch 3/15\n",
      "31367/31367 [==============================] - 50s 2ms/step - loss: 0.1957 - accuracy: 0.9483 - val_loss: 0.1011 - val_accuracy: 0.9742\n",
      "Epoch 4/15\n",
      "31367/31367 [==============================] - 46s 1ms/step - loss: 0.1531 - accuracy: 0.9594 - val_loss: 0.0703 - val_accuracy: 0.9836\n",
      "Epoch 5/15\n",
      "31367/31367 [==============================] - 46s 1ms/step - loss: 0.1262 - accuracy: 0.9664 - val_loss: 0.0837 - val_accuracy: 0.9806\n",
      "Epoch 6/15\n",
      "31367/31367 [==============================] - 46s 1ms/step - loss: 0.1111 - accuracy: 0.9715 - val_loss: 0.0567 - val_accuracy: 0.9874\n",
      "Epoch 7/15\n",
      "31367/31367 [==============================] - 46s 1ms/step - loss: 0.0969 - accuracy: 0.9742 - val_loss: 0.1038 - val_accuracy: 0.9728\n",
      "Epoch 8/15\n",
      "31367/31367 [==============================] - 46s 1ms/step - loss: 0.0909 - accuracy: 0.9772 - val_loss: 0.0780 - val_accuracy: 0.9795\n",
      "Epoch 9/15\n",
      "31367/31367 [==============================] - 46s 1ms/step - loss: 0.0851 - accuracy: 0.9775 - val_loss: 0.0712 - val_accuracy: 0.9843\n",
      "Epoch 10/15\n",
      "31367/31367 [==============================] - 46s 1ms/step - loss: 0.0830 - accuracy: 0.9781 - val_loss: 0.0485 - val_accuracy: 0.9894\n",
      "Epoch 11/15\n",
      "31367/31367 [==============================] - 47s 1ms/step - loss: 0.0975 - accuracy: 0.9755 - val_loss: 0.0523 - val_accuracy: 0.9872\n",
      "Epoch 12/15\n",
      "31367/31367 [==============================] - 47s 2ms/step - loss: 0.0617 - accuracy: 0.9842 - val_loss: 0.0457 - val_accuracy: 0.9906\n",
      "Epoch 13/15\n",
      "31367/31367 [==============================] - 47s 1ms/step - loss: 0.0641 - accuracy: 0.9838 - val_loss: 0.0714 - val_accuracy: 0.9872\n",
      "Epoch 14/15\n",
      "31367/31367 [==============================] - 47s 1ms/step - loss: 0.0722 - accuracy: 0.9822 - val_loss: 0.0546 - val_accuracy: 0.9866\n",
      "Epoch 15/15\n",
      "31367/31367 [==============================] - 47s 2ms/step - loss: 0.0724 - accuracy: 0.9830 - val_loss: 0.1032 - val_accuracy: 0.9797\n"
     ]
    }
   ],
   "source": [
    "NUM_EPOCHS = 15\n",
    "BS = 64\n",
    "\n",
    "history = model.fit(x_train, y_train, batch_size=BS, epochs=NUM_EPOCHS, validation_data=(x_test, y_test))\n",
    "model.save('ModelB_traffic_signnet_classifier.h5')"
   ]
  },
  {
   "cell_type": "code",
   "execution_count": 6,
   "metadata": {},
   "outputs": [
    {
     "data": {
      "image/png": "[encoded data removed]",
      "text/plain": [
       "<Figure size 720x432 with 1 Axes>"
      ]
     },
     "metadata": {
      "needs_background": "light"
     },
     "output_type": "display_data"
    },
    {
     "data": {
      "image/png": "[encoded data removed]",
      "text/plain": [
       "<Figure size 720x432 with 1 Axes>"
      ]
     },
     "metadata": {
      "needs_background": "light"
     },
     "output_type": "display_data"
    }
   ],
   "source": [
    "plt.figure(0, figsize=(10, 6))\n",
    "plt.plot(history.history['accuracy'], label='training accuracy')\n",
    "plt.plot(history.history['val_accuracy'], label='val accuracy')\n",
    "plt.title('Accuracy')\n",
    "plt.xlabel('epochs')\n",
    "plt.ylabel('accuracy')\n",
    "plt.legend()\n",
    "plt.show()\n",
    "\n",
    "plt.figure(1, figsize=(10, 6))\n",
    "plt.plot(history.history['loss'], label='training loss')\n",
    "plt.plot(history.history['val_loss'], label='val loss')\n",
    "plt.title('Loss')\n",
    "plt.xlabel('epochs')\n",
    "plt.ylabel('loss')\n",
    "plt.legend()\n",
    "plt.show()"
   ]
  },
  {
   "cell_type": "code",
   "execution_count": 7,
   "metadata": {},
   "outputs": [
    {
     "name": "stdout",
     "output_type": "stream",
     "text": [
      "94.521%\n"
     ]
    }
   ],
   "source": [
    "# Testing the model\n",
    "\n",
    "from sklearn.metrics import accuracy_score\n",
    "\n",
    "test = pd.read_csv(os.path.join(dataset_dir, 'Test.csv'))\n",
    "\n",
    "labels = test[\"ClassId\"].values\n",
    "img_paths = test[\"Path\"].values\n",
    "\n",
    "test_data = []\n",
    "for path in img_paths:\n",
    "    image = Image.open(os.path.join(dataset_dir, path))\n",
    "    image = image.resize((30, 30))\n",
    "    test_data.append(np.array(image))\n",
    "\n",
    "test_data = np.array(test_data)\n",
    "pred = model.predict_classes(test_data)\n",
    "\n",
    "# Accuracy with test data\n",
    "\n",
    "score = accuracy_score(labels, pred)\n",
    "print(f\"{score:.3%}\")"
   ]
  },
  {
   "cell_type": "code",
   "execution_count": 8,
   "metadata": {},
   "outputs": [
    {
     "name": "stdout",
     "output_type": "stream",
     "text": [
      "[INFO] Evaluating network...\n",
      "                                                    precision    recall  f1-score   support\n",
      "\n",
      "                              Speed limit (20km/h)       1.00      0.92      0.96        38\n",
      "                              Speed limit (30km/h)       0.96      0.99      0.97       496\n",
      "                              Speed limit (50km/h)       1.00      0.95      0.97       450\n",
      "                              Speed limit (60km/h)       0.99      0.98      0.99       280\n",
      "                              Speed limit (70km/h)       0.98      0.99      0.99       418\n",
      "                              Speed limit (80km/h)       0.96      0.96      0.96       364\n",
      "                       End of speed limit (80km/h)       0.97      1.00      0.98        59\n",
      "                             Speed limit (100km/h)       0.96      0.97      0.97       278\n",
      "                             Speed limit (120km/h)       0.99      0.97      0.98       301\n",
      "                                        No passing       1.00      1.00      1.00       268\n",
      "      No passing for vehicles over 3.5 metric tons       1.00      1.00      1.00       370\n",
      "             Right-of-way at the next intersection       0.99      1.00      0.99       236\n",
      "                                     Priority road       1.00      0.99      1.00       450\n",
      "                                             Yield       0.99      1.00      0.99       452\n",
      "                                              Stop       1.00      0.99      1.00       162\n",
      "                                       No vehicles       0.98      0.99      0.99       120\n",
      "          Vehicles over 3.5 metric tons prohibited       1.00      1.00      1.00        90\n",
      "                                          No entry       1.00      1.00      1.00       219\n",
      "                                   General caution       0.98      0.99      0.99       231\n",
      "                       Dangerous curve to the left       0.98      0.98      0.98        43\n",
      "                      Dangerous curve to the right       0.94      0.94      0.94        78\n",
      "                                      Double curve       0.98      0.97      0.98        63\n",
      "                                        Bumpy road       0.99      1.00      0.99        86\n",
      "                                     Slippery road       1.00      0.98      0.99       109\n",
      "                         Road narrows on the right       1.00      0.98      0.99        59\n",
      "                                         Road work       0.99      1.00      0.99       298\n",
      "                                   Traffic signals       0.98      0.98      0.98       122\n",
      "                                       Pedestrians       1.00      0.91      0.96        47\n",
      "                                 Children crossing       0.98      0.98      0.98        99\n",
      "                                 Bicycles crossing       1.00      0.93      0.96        59\n",
      "                                Beware of ice/snow       0.91      1.00      0.95        95\n",
      "                             Wild animals crossing       0.98      1.00      0.99       160\n",
      "               End of all speed and passing limits       0.98      1.00      0.99        41\n",
      "                                  Turn right ahead       1.00      1.00      1.00       138\n",
      "                                   Turn left ahead       1.00      0.98      0.99        88\n",
      "                                        Ahead only       1.00      1.00      1.00       224\n",
      "                              Go straight or right       1.00      0.99      0.99        80\n",
      "                               Go straight or left       1.00      1.00      1.00        47\n",
      "                                        Keep right       1.00      1.00      1.00       418\n",
      "                                         Keep left       1.00      1.00      1.00        58\n",
      "                              Roundabout mandatory       0.95      1.00      0.98        60\n",
      "                                 End of no passing       1.00      0.98      0.99        47\n",
      "End of no passing by vehicles over 3.5 metric tons       1.00      0.98      0.99        41\n",
      "\n",
      "                                          accuracy                           0.99      7842\n",
      "                                         macro avg       0.99      0.98      0.98      7842\n",
      "                                      weighted avg       0.99      0.99      0.99      7842\n",
      "\n"
     ]
    }
   ],
   "source": [
    "from sklearn.metrics import classification_report\n",
    "\n",
    "# load the label names\n",
    "label_names = open(\"signnames.csv\").read().strip().split(\"\\n\")[1:]\n",
    "label_names = [l.split(\",\")[1] for l in label_names]\n",
    "\n",
    "# evaluate the network\n",
    "print(\"[INFO] Evaluating network...\")\n",
    "predictions = model.predict(x_test, batch_size=BS)\n",
    "print(classification_report(y_test.argmax(axis=1), predictions.argmax(axis=1), target_names=label_names))"
   ]
  },
  {
   "cell_type": "code",
   "execution_count": 9,
   "metadata": {},
   "outputs": [
    {
     "name": "stdout",
     "output_type": "stream",
     "text": [
      "No entry\n",
      "Speed limit (80km/h)\n",
      "Keep right\n",
      "Speed limit (60km/h)\n",
      "Right-of-way at the next intersection\n",
      "No passing for vehicles over 3.5 metric tons\n",
      "Stop\n",
      "Wild animals crossing\n",
      "Speed limit (30km/h)\n",
      "Traffic signals\n",
      "General caution\n",
      "Yield\n",
      "Beware of ice/snow\n",
      "No passing for vehicles over 3.5 metric tons\n",
      "Speed limit (30km/h)\n",
      "Yield\n",
      "No entry\n",
      "Speed limit (70km/h)\n",
      "No entry\n",
      "Speed limit (30km/h)\n",
      "Yield\n",
      "No passing\n",
      "Speed limit (120km/h)\n",
      "Traffic signals\n",
      "Turn left ahead\n"
     ]
    }
   ],
   "source": [
    "from skimage import exposure, transform, io\n",
    "from skimage.transform import rescale\n",
    "import cv2\n",
    "import random\n",
    "\n",
    "label_names = open(\"signnames.csv\").read().strip().split(\"\\n\")[1:]\n",
    "label_names = [l.split(\",\")[1] for l in label_names]\n",
    "\n",
    "test = pd.read_csv(os.path.join(dataset_dir, 'Test.csv'))\n",
    "img_paths = \"gtsrb-german-traffic-sign\\\\\" + test[\"Path\"].values\n",
    "random.shuffle(img_paths)\n",
    "img_paths = img_paths[:25]\n",
    "\n",
    "for i, img_path in enumerate(img_paths):\n",
    "    image = Image.open(img_path)\n",
    "    image = image.resize((30, 30))\n",
    "    image = np.expand_dims(image, axis=0)\n",
    "\n",
    "    # make predictions using the traffic sign recognizer CNN\n",
    "    preds = model.predict_classes(image)\n",
    "    label = label_names[preds[0]]\n",
    "    print(label)\n",
    "    # load the image using OpenCV, resize it, and draw the label on it\n",
    "    image = cv2.imread(img_path) \n",
    "    scale_percent = 300 # percent of original size\n",
    "    width = int(image.shape[1] * scale_percent / 100)\n",
    "    height = int(image.shape[0] * scale_percent / 100)\n",
    "    dim = (width, height)\n",
    "    image = cv2.resize(image, dim, interpolation = cv2.INTER_AREA)\n",
    "    cv2.putText(image, label, (5, 50), cv2.FONT_HERSHEY_SIMPLEX,\n",
    "        0.5, (0, 0, 255), 1, cv2.LINE_AA)\n",
    "\n",
    "    # save the image to disk\n",
    "    p = os.path.sep.join([\"predictions\", \"{}.png\".format(label)])\n",
    "    cv2.imwrite(p, image)"
   ]
  }
 ],
 "metadata": {
  "kernelspec": {
   "display_name": "Python 3",
   "language": "python",
   "name": "python3"
  },
  "language_info": {
   "codemirror_mode": {
    "name": "ipython",
    "version": 3
   },
   "file_extension": ".py",
   "mimetype": "text/x-python",
   "name": "python",
   "nbconvert_exporter": "python",
   "pygments_lexer": "ipython3",
   "version": "3.7.7"
  }
 },
 "nbformat": 4,
 "nbformat_minor": 4
}
