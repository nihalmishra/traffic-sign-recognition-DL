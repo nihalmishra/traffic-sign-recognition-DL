{
 "cells": [
  {
   "cell_type": "code",
   "execution_count": 3,
   "metadata": {},
   "outputs": [],
   "source": [
    "import os\n",
    "\n",
    "import numpy as np\n",
    "import pandas as pd\n",
    "import matplotlib.pyplot as plt\n",
    "from PIL import Image\n",
    "\n",
    "import tensorflow as tf\n",
    "from sklearn.model_selection import train_test_split\n",
    "from tensorflow.keras.utils import to_categorical\n",
    "from tensorflow.keras.models import Sequential\n",
    "from tensorflow.keras.layers import Conv2D, MaxPool2D, Dense, Flatten, Dropout\n",
    "from tensorflow.keras.preprocessing.image import ImageDataGenerator\n",
    "\n",
    "X_data = []\n",
    "Y_labels = []\n",
    "total_class = 43\n",
    "cur_dir = os.getcwd()\n",
    "dataset_dir = os.path.join(cur_dir, \"gtsrb-german-traffic-sign\")"
   ]
  },
  {
   "cell_type": "code",
   "execution_count": 4,
   "metadata": {},
   "outputs": [
    {
     "name": "stdout",
     "output_type": "stream",
     "text": [
      "[INFO] processed 1000 total images\n",
      "[INFO] processed 2000 total images\n",
      "[INFO] processed 3000 total images\n",
      "[INFO] processed 4000 total images\n",
      "[INFO] processed 5000 total images\n",
      "[INFO] processed 6000 total images\n",
      "[INFO] processed 7000 total images\n",
      "[INFO] processed 8000 total images\n",
      "[INFO] processed 9000 total images\n",
      "[INFO] processed 10000 total images\n",
      "[INFO] processed 11000 total images\n",
      "[INFO] processed 12000 total images\n",
      "[INFO] processed 13000 total images\n",
      "[INFO] processed 14000 total images\n",
      "[INFO] processed 15000 total images\n",
      "[INFO] processed 16000 total images\n",
      "[INFO] processed 17000 total images\n",
      "[INFO] processed 18000 total images\n",
      "[INFO] processed 19000 total images\n",
      "[INFO] processed 20000 total images\n",
      "[INFO] processed 21000 total images\n",
      "[INFO] processed 22000 total images\n",
      "[INFO] processed 23000 total images\n",
      "[INFO] processed 24000 total images\n",
      "[INFO] processed 25000 total images\n",
      "[INFO] processed 26000 total images\n",
      "[INFO] processed 27000 total images\n",
      "[INFO] processed 28000 total images\n",
      "[INFO] processed 29000 total images\n",
      "[INFO] processed 30000 total images\n",
      "[INFO] processed 31000 total images\n",
      "[INFO] processed 32000 total images\n",
      "[INFO] processed 33000 total images\n",
      "[INFO] processed 34000 total images\n",
      "[INFO] processed 35000 total images\n",
      "[INFO] processed 36000 total images\n",
      "[INFO] processed 37000 total images\n",
      "[INFO] processed 38000 total images\n",
      "[INFO] processed 39000 total images\n",
      "(39209, 30, 30, 3) (39209,)\n"
     ]
    }
   ],
   "source": [
    "count = 0\n",
    "for index in range(total_class):\n",
    "    path = os.path.join(dataset_dir, 'train', str(index))\n",
    "    images = os.listdir(path)\n",
    "\n",
    "# iterating over all images in the folder\n",
    "\n",
    "    for img in images:\n",
    "        try:\n",
    "            if count > 0 and count % 1000 == 0:\n",
    "                print(\"[INFO] processed {} total images\".format(count))\n",
    "            # preprocessing the image to size 30x30\n",
    "            image = Image.open(path + '\\\\' + img)\n",
    "            image = image.resize((30, 30))\n",
    "            image = np.array(image)\n",
    "\n",
    "            X_data.append(image)\n",
    "            Y_labels.append(index)\n",
    "            count+=1\n",
    "        except:\n",
    "                print(\"Error loading image\")\n",
    "\n",
    "X_data = np.array(X_data)\n",
    "Y_labels = np.array(Y_labels)\n",
    "\n",
    "print(X_data.shape, Y_labels.shape)"
   ]
  },
  {
   "cell_type": "code",
   "execution_count": 5,
   "metadata": {},
   "outputs": [
    {
     "name": "stdout",
     "output_type": "stream",
     "text": [
      "Shape of x_train:  (23525, 30, 30, 3)  and y_train:  (23525,)\n",
      "Shape of x_test:  (15684, 30, 30, 3)  and y_test:  (15684,)\n"
     ]
    }
   ],
   "source": [
    "x_train, x_test, y_train, y_test = train_test_split(X_data, Y_labels, test_size=0.4, random_state=42)\n",
    "\n",
    "print(\"Shape of x_train: \", x_train.shape, \" and y_train: \", y_train.shape)\n",
    "print(\"Shape of x_test: \", x_test.shape, \" and y_test: \", y_test.shape)\n",
    "\n",
    "# one hot encoding the labels\n",
    "\n",
    "y_train = to_categorical(y_train, 43)\n",
    "y_test = to_categorical(y_test, 43)"
   ]
  },
  {
   "cell_type": "code",
   "execution_count": 6,
   "metadata": {},
   "outputs": [
    {
     "name": "stdout",
     "output_type": "stream",
     "text": [
      "Model: \"sequential\"\n",
      "_________________________________________________________________\n",
      "Layer (type)                 Output Shape              Param #   \n",
      "=================================================================\n",
      "conv2d (Conv2D)              (None, 26, 26, 32)        2432      \n",
      "_________________________________________________________________\n",
      "max_pooling2d (MaxPooling2D) (None, 13, 13, 32)        0         \n",
      "_________________________________________________________________\n",
      "conv2d_1 (Conv2D)            (None, 11, 11, 64)        18496     \n",
      "_________________________________________________________________\n",
      "max_pooling2d_1 (MaxPooling2 (None, 5, 5, 64)          0         \n",
      "_________________________________________________________________\n",
      "flatten (Flatten)            (None, 1600)              0         \n",
      "_________________________________________________________________\n",
      "dense (Dense)                (None, 256)               409856    \n",
      "_________________________________________________________________\n",
      "dense_1 (Dense)              (None, 43)                11051     \n",
      "=================================================================\n",
      "Total params: 441,835\n",
      "Trainable params: 441,835\n",
      "Non-trainable params: 0\n",
      "_________________________________________________________________\n"
     ]
    }
   ],
   "source": [
    "model = Sequential()\n",
    "model.add(Conv2D(filters=32, kernel_size=(5,5), activation='relu', input_shape=x_train.shape[1:]))\n",
    "model.add(MaxPool2D(pool_size=(2, 2)))\n",
    "model.add(Conv2D(filters=64, kernel_size=(3,3), activation='relu'))\n",
    "model.add(MaxPool2D(pool_size=(2, 2)))\n",
    "model.add(Flatten())\n",
    "model.add(Dense(256, activation='relu'))\n",
    "model.add(Dense(total_class, activation='softmax'))\n",
    "\n",
    "model.compile(loss='categorical_crossentropy', optimizer='adam', metrics=['accuracy'])\n",
    "\n",
    "model.summary()"
   ]
  },
  {
   "cell_type": "code",
   "execution_count": 7,
   "metadata": {},
   "outputs": [
    {
     "name": "stdout",
     "output_type": "stream",
     "text": [
      "Train on 23525 samples, validate on 15684 samples\n",
      "Epoch 1/10\n",
      "23525/23525 [==============================] - 14s 579us/sample - loss: 1.8404 - accuracy: 0.7485 - val_loss: 0.2900 - val_accuracy: 0.9278\n",
      "Epoch 2/10\n",
      "23525/23525 [==============================] - 13s 572us/sample - loss: 0.1905 - accuracy: 0.9533 - val_loss: 0.1641 - val_accuracy: 0.9588\n",
      "Epoch 3/10\n",
      "23525/23525 [==============================] - 13s 552us/sample - loss: 0.0957 - accuracy: 0.9768 - val_loss: 0.1403 - val_accuracy: 0.9681\n",
      "Epoch 4/10\n",
      "23525/23525 [==============================] - 15s 649us/sample - loss: 0.0707 - accuracy: 0.9815 - val_loss: 0.1673 - val_accuracy: 0.9605\n",
      "Epoch 5/10\n",
      "23525/23525 [==============================] - 14s 614us/sample - loss: 0.0796 - accuracy: 0.9791 - val_loss: 0.1827 - val_accuracy: 0.9640\n",
      "Epoch 6/10\n",
      "23525/23525 [==============================] - 16s 661us/sample - loss: 0.0783 - accuracy: 0.9801 - val_loss: 0.1487 - val_accuracy: 0.9667\n",
      "Epoch 7/10\n",
      "23525/23525 [==============================] - 14s 615us/sample - loss: 0.0776 - accuracy: 0.9813 - val_loss: 0.1584 - val_accuracy: 0.9661\n",
      "Epoch 8/10\n",
      "23525/23525 [==============================] - 14s 607us/sample - loss: 0.0915 - accuracy: 0.9787 - val_loss: 0.1540 - val_accuracy: 0.9675\n",
      "Epoch 9/10\n",
      "23525/23525 [==============================] - 14s 597us/sample - loss: 0.0516 - accuracy: 0.9869 - val_loss: 0.1568 - val_accuracy: 0.9765\n",
      "Epoch 10/10\n",
      "23525/23525 [==============================] - 14s 599us/sample - loss: 0.0500 - accuracy: 0.9877 - val_loss: 0.0988 - val_accuracy: 0.9836\n"
     ]
    }
   ],
   "source": [
    "NUM_EPOCHS = 10\n",
    "BS = 64\n",
    "\n",
    "history = model.fit(x_train, y_train, batch_size=BS, epochs=NUM_EPOCHS, validation_data=(x_test, y_test))\n",
    "model.save('ModelA_traffic_signnet_basic_no_dropout.h5')"
   ]
  },
  {
   "cell_type": "code",
   "execution_count": 8,
   "metadata": {},
   "outputs": [
    {
     "data": {
      "text/plain": [
       "<matplotlib.legend.Legend at 0x22068ceaec8>"
      ]
     },
     "execution_count": 8,
     "metadata": {},
     "output_type": "execute_result"
    },
    {
     "data": {
      "image/png": "[encoded data removed]",
      "text/plain": [
       "<Figure size 432x288 with 1 Axes>"
      ]
     },
     "metadata": {
      "needs_background": "light"
     },
     "output_type": "display_data"
    },
    {
     "data": {
      "image/png": "[encoded data removed]",
      "text/plain": [
       "<Figure size 432x288 with 1 Axes>"
      ]
     },
     "metadata": {
      "needs_background": "light"
     },
     "output_type": "display_data"
    }
   ],
   "source": [
    "plt.figure(0)\n",
    "plt.plot(history.history['accuracy'], label='training accuracy')\n",
    "plt.plot(history.history['val_accuracy'], label='val accuracy')\n",
    "plt.title('Accuracy')\n",
    "plt.xlabel('epochs')\n",
    "plt.ylabel('accuracy')\n",
    "plt.legend()\n",
    "\n",
    "plt.figure(1)\n",
    "plt.plot(history.history['loss'], label='training loss')\n",
    "plt.plot(history.history['val_loss'], label='val loss')\n",
    "plt.title('Loss')\n",
    "plt.xlabel('epochs')\n",
    "plt.ylabel('loss')\n",
    "plt.legend()"
   ]
  },
  {
   "cell_type": "code",
   "execution_count": 9,
   "metadata": {},
   "outputs": [
    {
     "name": "stdout",
     "output_type": "stream",
     "text": [
      "94.188%\n"
     ]
    }
   ],
   "source": [
    "# Testing the model\n",
    "\n",
    "from sklearn.metrics import accuracy_score\n",
    "\n",
    "test = pd.read_csv(os.path.join(dataset_dir, 'Test.csv'))\n",
    "\n",
    "labels = test[\"ClassId\"].values\n",
    "img_paths = test[\"Path\"].values\n",
    "\n",
    "test_data = []\n",
    "for path in img_paths:\n",
    "    image = Image.open(os.path.join(dataset_dir, path))\n",
    "    image = image.resize((30, 30))\n",
    "    test_data.append(np.array(image))\n",
    "\n",
    "test_data = np.array(test_data)\n",
    "pred = model.predict_classes(test_data)\n",
    "\n",
    "# Accuracy with test data\n",
    "\n",
    "score = accuracy_score(labels, pred)\n",
    "print(f\"{score:.3%}\")"
   ]
  },
  {
   "cell_type": "code",
   "execution_count": 10,
   "metadata": {},
   "outputs": [
    {
     "name": "stdout",
     "output_type": "stream",
     "text": [
      "[INFO] Evaluating network...\n",
      "                                                    precision    recall  f1-score   support\n",
      "\n",
      "                              Speed limit (20km/h)       0.99      0.96      0.97        74\n",
      "                              Speed limit (30km/h)       0.98      0.98      0.98       912\n",
      "                              Speed limit (50km/h)       0.98      0.98      0.98       911\n",
      "                              Speed limit (60km/h)       0.99      0.96      0.97       556\n",
      "                              Speed limit (70km/h)       0.98      1.00      0.99       826\n",
      "                              Speed limit (80km/h)       0.99      0.93      0.96       755\n",
      "                       End of speed limit (80km/h)       1.00      0.99      0.99       153\n",
      "                             Speed limit (100km/h)       0.97      0.96      0.97       535\n",
      "                             Speed limit (120km/h)       0.93      1.00      0.96       608\n",
      "                                        No passing       0.99      0.99      0.99       594\n",
      "      No passing for vehicles over 3.5 metric tons       0.99      1.00      0.99       770\n",
      "             Right-of-way at the next intersection       0.99      0.98      0.99       467\n",
      "                                     Priority road       0.99      1.00      1.00       857\n",
      "                                             Yield       1.00      1.00      1.00       864\n",
      "                                              Stop       1.00      1.00      1.00       325\n",
      "                                       No vehicles       0.98      1.00      0.99       242\n",
      "          Vehicles over 3.5 metric tons prohibited       0.99      1.00      0.99       176\n",
      "                                          No entry       0.99      1.00      1.00       435\n",
      "                                   General caution       0.99      0.98      0.99       472\n",
      "                       Dangerous curve to the left       1.00      0.95      0.98        87\n",
      "                      Dangerous curve to the right       0.99      0.94      0.97       137\n",
      "                                      Double curve       0.98      0.94      0.96       136\n",
      "                                        Bumpy road       0.96      0.99      0.98       159\n",
      "                                     Slippery road       1.00      0.94      0.97       208\n",
      "                         Road narrows on the right       0.99      0.98      0.99       102\n",
      "                                         Road work       0.98      0.98      0.98       597\n",
      "                                   Traffic signals       0.98      0.97      0.98       232\n",
      "                                       Pedestrians       0.98      0.99      0.99       100\n",
      "                                 Children crossing       0.99      0.98      0.98       219\n",
      "                                 Bicycles crossing       0.97      0.98      0.97       121\n",
      "                                Beware of ice/snow       0.97      0.99      0.98       180\n",
      "                             Wild animals crossing       0.89      1.00      0.94       329\n",
      "               End of all speed and passing limits       0.98      0.99      0.98        89\n",
      "                                  Turn right ahead       0.99      1.00      0.99       284\n",
      "                                   Turn left ahead       0.99      0.97      0.98       180\n",
      "                                        Ahead only       0.99      1.00      1.00       477\n",
      "                              Go straight or right       0.98      0.98      0.98       163\n",
      "                               Go straight or left       1.00      0.98      0.99        89\n",
      "                                        Keep right       1.00      0.99      1.00       820\n",
      "                                         Keep left       0.99      1.00      1.00       112\n",
      "                              Roundabout mandatory       0.97      0.99      0.98       146\n",
      "                                 End of no passing       1.00      0.95      0.97        98\n",
      "End of no passing by vehicles over 3.5 metric tons       0.99      0.99      0.99        87\n",
      "\n",
      "                                          accuracy                           0.98     15684\n",
      "                                         macro avg       0.98      0.98      0.98     15684\n",
      "                                      weighted avg       0.98      0.98      0.98     15684\n",
      "\n"
     ]
    }
   ],
   "source": [
    "from sklearn.metrics import classification_report\n",
    "\n",
    "# load the label names\n",
    "label_names = open(\"signnames.csv\").read().strip().split(\"\\n\")[1:]\n",
    "label_names = [l.split(\",\")[1] for l in label_names]\n",
    "\n",
    "# evaluate the network\n",
    "print(\"[INFO] Evaluating network...\")\n",
    "predictions = model.predict(x_test, batch_size=BS)\n",
    "print(classification_report(y_test.argmax(axis=1), predictions.argmax(axis=1), target_names=label_names))"
   ]
  },
  {
   "cell_type": "code",
   "execution_count": 12,
   "metadata": {},
   "outputs": [
    {
     "name": "stdout",
     "output_type": "stream",
     "text": [
      "No passing for vehicles over 3.5 metric tons\n",
      "Keep right\n",
      "Children crossing\n",
      "Speed limit (120km/h)\n",
      "Priority road\n",
      "Wild animals crossing\n",
      "Stop\n",
      "Speed limit (50km/h)\n",
      "Speed limit (100km/h)\n",
      "Speed limit (80km/h)\n",
      "Speed limit (80km/h)\n",
      "Speed limit (100km/h)\n",
      "Priority road\n",
      "No vehicles\n",
      "Right-of-way at the next intersection\n",
      "End of speed limit (80km/h)\n",
      "Speed limit (60km/h)\n",
      "Speed limit (70km/h)\n",
      "Bumpy road\n",
      "No passing for vehicles over 3.5 metric tons\n",
      "No entry\n",
      "Priority road\n",
      "Speed limit (80km/h)\n",
      "General caution\n",
      "Speed limit (30km/h)\n"
     ]
    }
   ],
   "source": [
    "from skimage import exposure, transform, io\n",
    "from skimage.transform import rescale\n",
    "import cv2\n",
    "import random\n",
    "\n",
    "label_names = open(\"signnames.csv\").read().strip().split(\"\\n\")[1:]\n",
    "label_names = [l.split(\",\")[1] for l in label_names]\n",
    "\n",
    "test = pd.read_csv(os.path.join(dataset_dir, 'Test.csv'))\n",
    "img_paths = \"gtsrb-german-traffic-sign\\\\\" + test[\"Path\"].values\n",
    "random.shuffle(img_paths)\n",
    "img_paths = img_paths[:25]\n",
    "\n",
    "for i, img_path in enumerate(img_paths):\n",
    "    image = Image.open(img_path)\n",
    "    image = image.resize((30, 30))\n",
    "    image = np.expand_dims(image, axis=0)\n",
    "\n",
    "    # make predictions using the traffic sign recognizer CNN\n",
    "    preds = model.predict_classes(image)\n",
    "    label = label_names[preds[0]]\n",
    "    print(label)\n",
    "    \n",
    "    # load the image using OpenCV, resize it, and draw the label\n",
    "    # on it\n",
    "    image = cv2.imread(img_path)\n",
    "    scale_percent = 300 # percent of original size\n",
    "    width = int(image.shape[1] * scale_percent / 100)\n",
    "    height = int(image.shape[0] * scale_percent / 100)\n",
    "    dim = (width, height)\n",
    "    \n",
    "    # resize image\n",
    "    image = cv2.resize(image, dim, interpolation = cv2.INTER_AREA)\n",
    "    cv2.putText(image, label, (5, 50), cv2.FONT_HERSHEY_SIMPLEX,\n",
    "        0.5, (0, 0, 255), 1, cv2.LINE_AA)\n",
    "\n",
    "    # save the image to disk\n",
    "    p = os.path.sep.join([\"predictions_no_droput\", \"{}.png\".format(i)])\n",
    "    cv2.imwrite(p, image)"
   ]
  },
  {
   "cell_type": "code",
   "execution_count": 13,
   "metadata": {},
   "outputs": [
    {
     "data": {
      "text/plain": [
       "False"
      ]
     },
     "execution_count": 13,
     "metadata": {},
     "output_type": "execute_result"
    }
   ],
   "source": [
    "tf.test.is_built_with_cuda()"
   ]
  }
 ],
 "metadata": {
  "kernelspec": {
   "display_name": "Python 3",
   "language": "python",
   "name": "python3"
  },
  "language_info": {
   "codemirror_mode": {
    "name": "ipython",
    "version": 3
   },
   "file_extension": ".py",
   "mimetype": "text/x-python",
   "name": "python",
   "nbconvert_exporter": "python",
   "pygments_lexer": "ipython3",
   "version": "3.7.7"
  }
 },
 "nbformat": 4,
 "nbformat_minor": 4
}
