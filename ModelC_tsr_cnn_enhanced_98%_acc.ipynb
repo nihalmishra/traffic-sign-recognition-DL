{
 "cells": [
  {
   "cell_type": "markdown",
   "metadata": {},
   "source": [
    "# Traffic Sign Recognition\n",
    "\n",
    "This python notebook contains the source code to build a traffic sign recognition model to classify traffic signs using a deep convolutional neural network. It uses Keras with TensorFlow as backend and Scikit-Learn to degine the model architecture and PIL, Scikit-Image and OpenCV for image processing.\n",
    "\n",
    "The dataset used to train and test the model is the German Traffic Sign Recognition Benchmark (GTSRB) available at https://www.kaggle.com/meowmeowmeowmeowmeow/gtsrb-german-traffic-sign"
   ]
  },
  {
   "cell_type": "markdown",
   "metadata": {},
   "source": [
    "## Import relevant libraries and set path to the dataset"
   ]
  },
  {
   "cell_type": "code",
   "execution_count": 1,
   "metadata": {},
   "outputs": [],
   "source": [
    "import os\n",
    "\n",
    "import numpy as np\n",
    "import pandas as pd\n",
    "import matplotlib.pyplot as plt\n",
    "from PIL import Image\n",
    "from skimage import transform, exposure, io\n",
    "\n",
    "import tensorflow as tf\n",
    "from sklearn.model_selection import train_test_split\n",
    "from tensorflow.keras.utils import to_categorical\n",
    "from tensorflow.keras.models import Sequential\n",
    "from tensorflow.keras.layers import Conv2D, MaxPool2D, Dense, Flatten, Dropout\n",
    "from tensorflow.keras.preprocessing.image import ImageDataGenerator\n",
    "\n",
    "X_data = []\n",
    "Y_labels = []\n",
    "total_class = 43\n",
    "cur_dir = os.getcwd()\n",
    "dataset_dir = os.path.join(cur_dir, \"gtsrb-german-traffic-sign\")"
   ]
  },
  {
   "cell_type": "markdown",
   "metadata": {},
   "source": [
    "## Complete set of labels/classes in the dataset"
   ]
  },
  {
   "cell_type": "code",
   "execution_count": 2,
   "metadata": {
    "scrolled": true
   },
   "outputs": [
    {
     "name": "stdout",
     "output_type": "stream",
     "text": [
      "{0: 'Speed limit (20km/h)', 1: 'Speed limit (30km/h)', 2: 'Speed limit (50km/h)', 3: 'Speed limit (60km/h)', 4: 'Speed limit (70km/h)', 5: 'Speed limit (80km/h)', 6: 'End of speed limit (80km/h)', 7: 'Speed limit (100km/h)', 8: 'Speed limit (120km/h)', 9: 'No passing', 10: 'No passing for vehicles over 3.5 metric tons', 11: 'Right-of-way at the next intersection', 12: 'Priority road', 13: 'Yield', 14: 'Stop', 15: 'No vehicles', 16: 'Vehicles over 3.5 metric tons prohibited', 17: 'No entry', 18: 'General caution', 19: 'Dangerous curve to the left', 20: 'Dangerous curve to the right', 21: 'Double curve', 22: 'Bumpy road', 23: 'Slippery road', 24: 'Road narrows on the right', 25: 'Road work', 26: 'Traffic signals', 27: 'Pedestrians', 28: 'Children crossing', 29: 'Bicycles crossing', 30: 'Beware of ice/snow', 31: 'Wild animals crossing', 32: 'End of all speed and passing limits', 33: 'Turn right ahead', 34: 'Turn left ahead', 35: 'Ahead only', 36: 'Go straight or right', 37: 'Go straight or left', 38: 'Keep right', 39: 'Keep left', 40: 'Roundabout mandatory', 41: 'End of no passing', 42: 'End of no passing by vehicles over 3.5 metric tons'}\n"
     ]
    }
   ],
   "source": [
    "# Create label dictionary \n",
    "import csv\n",
    "    \n",
    "labels_dict = None\n",
    "with open('signnames.csv', mode='r') as infile:\n",
    "    reader = csv.reader(infile)\n",
    "    next(reader, None)\n",
    "    labels_dict = {int(rows[0]):rows[1] for rows in reader}\n",
    "print(labels_dict)"
   ]
  },
  {
   "cell_type": "markdown",
   "metadata": {},
   "source": [
    "## Image Preprocessing\n",
    "\n",
    "Load the images using Scikit-Image and resize the image to size 32x32. Most of the images in the dataset suffer from poor lighting and low brightness/contrast. Hence the Contrast Limited Adaptive Histogram Equalization (CLAHE) was applied to improve contrast and increase brightness of images. It helps to normalize and enhance local contrast details in regions that are darker or lighter than most of the image."
   ]
  },
  {
   "cell_type": "code",
   "execution_count": 3,
   "metadata": {},
   "outputs": [
    {
     "name": "stdout",
     "output_type": "stream",
     "text": [
      "[INFO] processed 1000 total images\n",
      "[INFO] processed 2000 total images\n",
      "[INFO] processed 3000 total images\n",
      "[INFO] processed 4000 total images\n",
      "[INFO] processed 5000 total images\n",
      "[INFO] processed 6000 total images\n",
      "[INFO] processed 7000 total images\n",
      "[INFO] processed 8000 total images\n",
      "[INFO] processed 9000 total images\n",
      "[INFO] processed 10000 total images\n",
      "[INFO] processed 11000 total images\n",
      "[INFO] processed 12000 total images\n",
      "[INFO] processed 13000 total images\n",
      "[INFO] processed 14000 total images\n",
      "[INFO] processed 15000 total images\n",
      "[INFO] processed 16000 total images\n",
      "[INFO] processed 17000 total images\n",
      "[INFO] processed 18000 total images\n",
      "[INFO] processed 19000 total images\n",
      "[INFO] processed 20000 total images\n",
      "[INFO] processed 21000 total images\n",
      "[INFO] processed 22000 total images\n",
      "[INFO] processed 23000 total images\n",
      "[INFO] processed 24000 total images\n",
      "[INFO] processed 25000 total images\n",
      "[INFO] processed 26000 total images\n",
      "[INFO] processed 27000 total images\n",
      "[INFO] processed 28000 total images\n",
      "[INFO] processed 29000 total images\n",
      "[INFO] processed 30000 total images\n",
      "[INFO] processed 31000 total images\n",
      "[INFO] processed 32000 total images\n",
      "[INFO] processed 33000 total images\n",
      "[INFO] processed 34000 total images\n",
      "[INFO] processed 35000 total images\n",
      "[INFO] processed 36000 total images\n",
      "[INFO] processed 37000 total images\n",
      "[INFO] processed 38000 total images\n",
      "[INFO] processed 39000 total images\n",
      "(39209, 32, 32, 3) (39209,)\n"
     ]
    }
   ],
   "source": [
    "count = 0\n",
    "for index in range(total_class):\n",
    "    path = os.path.join(dataset_dir, 'train', str(index))\n",
    "    images = os.listdir(path)\n",
    "\n",
    "# iterating over all images in the train folder\n",
    "\n",
    "    for i, img in enumerate(images):\n",
    "        try:\n",
    "            # preprocessing the image to size 32x32 and \n",
    "            # applying Contrast Limited Adaptive Histogram Equalization (CLAHE)\n",
    "            # to improve contrast and increase brightness of images\n",
    "            if count > 0 and count % 1000 == 0:\n",
    "                print(\"[INFO] processed {} total images\".format(count))\n",
    "            image = io.imread(path + '\\\\' + img)\n",
    "            image = transform.resize(image, (32, 32))\n",
    "            image = exposure.equalize_adapthist(image, clip_limit=0.1)\n",
    "\n",
    "            X_data.append(image)\n",
    "            Y_labels.append(index)\n",
    "            count+=1\n",
    "\n",
    "        except:\n",
    "                print(\"Error loading image\")\n",
    "\n",
    "X_data = np.array(X_data)\n",
    "Y_labels = np.array(Y_labels)\n",
    "\n",
    "print(X_data.shape, Y_labels.shape)"
   ]
  },
  {
   "cell_type": "markdown",
   "metadata": {},
   "source": [
    "## Training-Testing Split"
   ]
  },
  {
   "cell_type": "code",
   "execution_count": 4,
   "metadata": {
    "scrolled": true
   },
   "outputs": [
    {
     "name": "stdout",
     "output_type": "stream",
     "text": [
      "Number of training samples = 31367\n",
      "Number of testing samples = 7842\n",
      "Number of labels/classes = 43\n",
      "Shape of x_train:  (31367, 32, 32, 3)  and y_train:  (31367,)\n",
      "Shape of x_test:  (7842, 32, 32, 3)  and y_test:  (7842,)\n"
     ]
    }
   ],
   "source": [
    "# split the images in train folder for training and validation/testing\n",
    "x_train, x_test, y_train, y_test = train_test_split(X_data, Y_labels, test_size=0.2, random_state=42)\n",
    "\n",
    "# TODO: How many unique classes/labels there are in the dataset.\n",
    "labels_index = np.unique(y_train)\n",
    "n_labels = len(labels_index)\n",
    "\n",
    "print(\"Number of training samples =\", len(x_train))\n",
    "print(\"Number of testing samples =\", len(x_test))\n",
    "print(\"Number of labels/classes =\", n_labels)\n",
    "\n",
    "print(\"Shape of x_train: \", x_train.shape, \" and y_train: \", y_train.shape)\n",
    "print(\"Shape of x_test: \", x_test.shape, \" and y_test: \", y_test.shape)"
   ]
  },
  {
   "cell_type": "markdown",
   "metadata": {},
   "source": [
    "## Class/Label Distribution\n",
    "\n",
    "The class distribution of this dataset is far from uniform and quite skewed towards some classes. The largest classes have 10x the number of traffic sign images than the smallest classes. This is expected given that in real-life there are certain signs which appear more frequently than others. However, when training the model, I wanted a more uniform distribution so that each class has the same number of training examples and the model, therefore, has an equal number of opportunities to learn each sign."
   ]
  },
  {
   "cell_type": "code",
   "execution_count": null,
   "metadata": {
    "scrolled": false
   },
   "outputs": [],
   "source": [
    "# Plot class/label distribution for the dataset\n",
    "y_train_df = pd.DataFrame()\n",
    "y_train_df['label'] = y_train\n",
    "ax = y_train_df['label'].value_counts().plot(kind='barh', figsize = (10,10), title='Number of Samples per Class')\n",
    "ax.set_yticklabels(list(map(lambda x: labels_dict[x], y_train_df['label'].value_counts().index.tolist())))            \n",
    "for i, v in enumerate(y_train_df['label'].value_counts()):\n",
    "    ax.text(v + 10, i - 0.25, str(v), color='black')"
   ]
  },
  {
   "cell_type": "code",
   "execution_count": null,
   "metadata": {},
   "outputs": [],
   "source": [
    "unique, counts = np.unique(y_train, return_counts=True)\n",
    "plt.bar(unique, counts)\n",
    "unique, counts = np.unique(y_test, return_counts=True)\n",
    "plt.bar(unique, counts)\n",
    "\n",
    "plt.title('Class Frequency')\n",
    "plt.xlabel('Class')\n",
    "plt.ylabel('Frequency')\n",
    "\n",
    "plt.show()"
   ]
  },
  {
   "cell_type": "code",
   "execution_count": 5,
   "metadata": {},
   "outputs": [],
   "source": [
    "# one hot encoding the labels\n",
    "\n",
    "y_train = to_categorical(y_train, 43)\n",
    "y_test = to_categorical(y_test, 43)"
   ]
  },
  {
   "cell_type": "markdown",
   "metadata": {},
   "source": [
    "## Augmentation of the image data\n",
    "\n",
    "Transformations such as rotation, zoom, dimension shift, and shearing were applied to the images to introduce some variability and mimic real-life scenarios where the camera might not have clear head-on view of a sign. This helps the model to be trained on non-ideal images, improving reliability. No horizontal or vertical flips were applied as those are very unlikely to be encountered in rea life.\n",
    "\n",
    "ZCA Whitening helped to highlight the edges of the images and make them more prominent, especially on images with poor lighting.\n",
    "As noted above, since most images in the dataset have dark backgrounds due to being captured in poor lighting, grayscaling was avoided as it would make this problem even worse. Instead, color channel shift is used to combat the potential issue of the model being overfit on a particular shade of color, which would be red in this case."
   ]
  },
  {
   "cell_type": "code",
   "execution_count": 6,
   "metadata": {
    "scrolled": true
   },
   "outputs": [
    {
     "name": "stderr",
     "output_type": "stream",
     "text": [
      "C:\\Users\\Richa\\Anaconda3\\envs\\data_science\\lib\\site-packages\\keras_preprocessing\\image\\image_data_generator.py:336: UserWarning: This ImageDataGenerator specifies `zca_whitening`, which overrides setting of `featurewise_center`.\n",
      "  warnings.warn('This ImageDataGenerator specifies '\n"
     ]
    }
   ],
   "source": [
    "NUM_EPOCHS = 15\n",
    "BS = 64 # batch size\n",
    "INIT_LR = 1e-3 # initial learning rate 0.001\n",
    "\n",
    "# account for class skew in training data\n",
    "class_totals = y_train.sum(axis=0)\n",
    "class_weight = class_totals.max() / class_totals\n",
    "\n",
    "# define the augmentation using ImageDataGenerator\n",
    "aug = ImageDataGenerator(\n",
    "    zca_whitening=True,\n",
    "    rotation_range=10,\n",
    "    zoom_range=0.15,\n",
    "    width_shift_range=0.1,\n",
    "    height_shift_range=0.1,\n",
    "    shear_range=0.15,\n",
    "    channel_shift_range=0.1,\n",
    "    horizontal_flip=False,\n",
    "    vertical_flip=False,\n",
    "    fill_mode=\"nearest\")"
   ]
  },
  {
   "cell_type": "markdown",
   "metadata": {},
   "source": [
    "## Defining the CNN Model"
   ]
  },
  {
   "cell_type": "code",
   "execution_count": 7,
   "metadata": {},
   "outputs": [
    {
     "name": "stdout",
     "output_type": "stream",
     "text": [
      "[INFO] Compiled the model successfully\n"
     ]
    }
   ],
   "source": [
    "from tensorflow.keras.optimizers import Adam\n",
    "\n",
    "\n",
    "# contruct the CNN model\n",
    "model = Sequential()\n",
    "model.add(Conv2D(filters=32, kernel_size=(5,5), activation='relu', input_shape=x_train.shape[1:]))\n",
    "model.add(Conv2D(filters=32, kernel_size=(5,5), activation='relu'))\n",
    "model.add(MaxPool2D(pool_size=(2, 2)))\n",
    "model.add(Dropout(rate=0.25))\n",
    "model.add(Conv2D(filters=64, kernel_size=(3,3), activation='relu'))\n",
    "model.add(Conv2D(filters=64, kernel_size=(3,3), activation='relu'))\n",
    "model.add(MaxPool2D(pool_size=(2, 2)))\n",
    "model.add(Dropout(rate=0.25))\n",
    "model.add(Flatten())\n",
    "model.add(Dense(256, activation='relu'))\n",
    "model.add(Dropout(rate=0.5))\n",
    "model.add(Dense(total_class, activation='softmax'))\n",
    "\n",
    "opt = Adam(lr=INIT_LR, decay=INIT_LR / (NUM_EPOCHS * 0.5))\n",
    "model.compile(loss='categorical_crossentropy', optimizer=opt, metrics=['accuracy'])\n",
    "print('[INFO] Compiled the model successfully')"
   ]
  },
  {
   "cell_type": "code",
   "execution_count": 8,
   "metadata": {},
   "outputs": [
    {
     "name": "stdout",
     "output_type": "stream",
     "text": [
      "[INFO] Model Summary\n",
      "Model: \"sequential\"\n",
      "_________________________________________________________________\n",
      "Layer (type)                 Output Shape              Param #   \n",
      "=================================================================\n",
      "conv2d (Conv2D)              (None, 28, 28, 32)        2432      \n",
      "_________________________________________________________________\n",
      "conv2d_1 (Conv2D)            (None, 24, 24, 32)        25632     \n",
      "_________________________________________________________________\n",
      "max_pooling2d (MaxPooling2D) (None, 12, 12, 32)        0         \n",
      "_________________________________________________________________\n",
      "dropout (Dropout)            (None, 12, 12, 32)        0         \n",
      "_________________________________________________________________\n",
      "conv2d_2 (Conv2D)            (None, 10, 10, 64)        18496     \n",
      "_________________________________________________________________\n",
      "conv2d_3 (Conv2D)            (None, 8, 8, 64)          36928     \n",
      "_________________________________________________________________\n",
      "max_pooling2d_1 (MaxPooling2 (None, 4, 4, 64)          0         \n",
      "_________________________________________________________________\n",
      "dropout_1 (Dropout)          (None, 4, 4, 64)          0         \n",
      "_________________________________________________________________\n",
      "flatten (Flatten)            (None, 1024)              0         \n",
      "_________________________________________________________________\n",
      "dense (Dense)                (None, 256)               262400    \n",
      "_________________________________________________________________\n",
      "dropout_2 (Dropout)          (None, 256)               0         \n",
      "_________________________________________________________________\n",
      "dense_1 (Dense)              (None, 43)                11051     \n",
      "=================================================================\n",
      "Total params: 356,939\n",
      "Trainable params: 356,939\n",
      "Non-trainable params: 0\n",
      "_________________________________________________________________\n"
     ]
    }
   ],
   "source": [
    "print('[INFO] Model Summary')\n",
    "model.summary()"
   ]
  },
  {
   "cell_type": "code",
   "execution_count": 9,
   "metadata": {
    "scrolled": false
   },
   "outputs": [
    {
     "name": "stdout",
     "output_type": "stream",
     "text": [
      "[INFO] Model Visualization\n"
     ]
    },
    {
     "data": {
      "image/svg+xml": [
       "<svg height=\"876pt\" viewBox=\"0.00 0.00 354.00 1051.00\" width=\"295pt\" xmlns=\"http://www.w3.org/2000/svg\" xmlns:xlink=\"http://www.w3.org/1999/xlink\">\n",
       "<g class=\"graph\" id=\"graph0\" transform=\"scale(0.833333 0.833333) rotate(0) translate(4 1047)\">\n",
       "<title>G</title>\n",
       "<polygon fill=\"white\" points=\"-4,4 -4,-1047 350,-1047 350,4 -4,4\" stroke=\"none\"/>\n",
       "<!-- 2571532829448 -->\n",
       "<g class=\"node\" id=\"node1\"><title>2571532829448</title>\n",
       "<polygon fill=\"none\" points=\"16,-996.5 16,-1042.5 330,-1042.5 330,-996.5 16,-996.5\" stroke=\"black\"/>\n",
       "<text font-family=\"Times New Roman,serif\" font-size=\"14.00\" text-anchor=\"middle\" x=\"96.5\" y=\"-1015.8\">conv2d_input: InputLayer</text>\n",
       "<polyline fill=\"none\" points=\"177,-996.5 177,-1042.5 \" stroke=\"black\"/>\n",
       "<text font-family=\"Times New Roman,serif\" font-size=\"14.00\" text-anchor=\"middle\" x=\"205\" y=\"-1027.3\">input:</text>\n",
       "<polyline fill=\"none\" points=\"177,-1019.5 233,-1019.5 \" stroke=\"black\"/>\n",
       "<text font-family=\"Times New Roman,serif\" font-size=\"14.00\" text-anchor=\"middle\" x=\"205\" y=\"-1004.3\">output:</text>\n",
       "<polyline fill=\"none\" points=\"233,-996.5 233,-1042.5 \" stroke=\"black\"/>\n",
       "<text font-family=\"Times New Roman,serif\" font-size=\"14.00\" text-anchor=\"middle\" x=\"281.5\" y=\"-1027.3\">[(?, 32, 32, 3)]</text>\n",
       "<polyline fill=\"none\" points=\"233,-1019.5 330,-1019.5 \" stroke=\"black\"/>\n",
       "<text font-family=\"Times New Roman,serif\" font-size=\"14.00\" text-anchor=\"middle\" x=\"281.5\" y=\"-1004.3\">[(?, 32, 32, 3)]</text>\n",
       "</g>\n",
       "<!-- 2571532066568 -->\n",
       "<g class=\"node\" id=\"node2\"><title>2571532066568</title>\n",
       "<polygon fill=\"none\" points=\"41,-913.5 41,-959.5 305,-959.5 305,-913.5 41,-913.5\" stroke=\"black\"/>\n",
       "<text font-family=\"Times New Roman,serif\" font-size=\"14.00\" text-anchor=\"middle\" x=\"97.5\" y=\"-932.8\">conv2d: Conv2D</text>\n",
       "<polyline fill=\"none\" points=\"154,-913.5 154,-959.5 \" stroke=\"black\"/>\n",
       "<text font-family=\"Times New Roman,serif\" font-size=\"14.00\" text-anchor=\"middle\" x=\"182\" y=\"-944.3\">input:</text>\n",
       "<polyline fill=\"none\" points=\"154,-936.5 210,-936.5 \" stroke=\"black\"/>\n",
       "<text font-family=\"Times New Roman,serif\" font-size=\"14.00\" text-anchor=\"middle\" x=\"182\" y=\"-921.3\">output:</text>\n",
       "<polyline fill=\"none\" points=\"210,-913.5 210,-959.5 \" stroke=\"black\"/>\n",
       "<text font-family=\"Times New Roman,serif\" font-size=\"14.00\" text-anchor=\"middle\" x=\"257.5\" y=\"-944.3\">(?, 32, 32, 3)</text>\n",
       "<polyline fill=\"none\" points=\"210,-936.5 305,-936.5 \" stroke=\"black\"/>\n",
       "<text font-family=\"Times New Roman,serif\" font-size=\"14.00\" text-anchor=\"middle\" x=\"257.5\" y=\"-921.3\">(?, 28, 28, 32)</text>\n",
       "</g>\n",
       "<!-- 2571532829448&#45;&gt;2571532066568 -->\n",
       "<g class=\"edge\" id=\"edge1\"><title>2571532829448-&gt;2571532066568</title>\n",
       "<path d=\"M173,-996.366C173,-988.152 173,-978.658 173,-969.725\" fill=\"none\" stroke=\"black\"/>\n",
       "<polygon fill=\"black\" points=\"176.5,-969.607 173,-959.607 169.5,-969.607 176.5,-969.607\" stroke=\"black\"/>\n",
       "</g>\n",
       "<!-- 2572431406984 -->\n",
       "<g class=\"node\" id=\"node3\"><title>2572431406984</title>\n",
       "<polygon fill=\"none\" points=\"34,-830.5 34,-876.5 312,-876.5 312,-830.5 34,-830.5\" stroke=\"black\"/>\n",
       "<text font-family=\"Times New Roman,serif\" font-size=\"14.00\" text-anchor=\"middle\" x=\"97.5\" y=\"-849.8\">conv2d_1: Conv2D</text>\n",
       "<polyline fill=\"none\" points=\"161,-830.5 161,-876.5 \" stroke=\"black\"/>\n",
       "<text font-family=\"Times New Roman,serif\" font-size=\"14.00\" text-anchor=\"middle\" x=\"189\" y=\"-861.3\">input:</text>\n",
       "<polyline fill=\"none\" points=\"161,-853.5 217,-853.5 \" stroke=\"black\"/>\n",
       "<text font-family=\"Times New Roman,serif\" font-size=\"14.00\" text-anchor=\"middle\" x=\"189\" y=\"-838.3\">output:</text>\n",
       "<polyline fill=\"none\" points=\"217,-830.5 217,-876.5 \" stroke=\"black\"/>\n",
       "<text font-family=\"Times New Roman,serif\" font-size=\"14.00\" text-anchor=\"middle\" x=\"264.5\" y=\"-861.3\">(?, 28, 28, 32)</text>\n",
       "<polyline fill=\"none\" points=\"217,-853.5 312,-853.5 \" stroke=\"black\"/>\n",
       "<text font-family=\"Times New Roman,serif\" font-size=\"14.00\" text-anchor=\"middle\" x=\"264.5\" y=\"-838.3\">(?, 24, 24, 32)</text>\n",
       "</g>\n",
       "<!-- 2571532066568&#45;&gt;2572431406984 -->\n",
       "<g class=\"edge\" id=\"edge2\"><title>2571532066568-&gt;2572431406984</title>\n",
       "<path d=\"M173,-913.366C173,-905.152 173,-895.658 173,-886.725\" fill=\"none\" stroke=\"black\"/>\n",
       "<polygon fill=\"black\" points=\"176.5,-886.607 173,-876.607 169.5,-886.607 176.5,-886.607\" stroke=\"black\"/>\n",
       "</g>\n",
       "<!-- 2572431406856 -->\n",
       "<g class=\"node\" id=\"node4\"><title>2572431406856</title>\n",
       "<polygon fill=\"none\" points=\"0.5,-747.5 0.5,-793.5 345.5,-793.5 345.5,-747.5 0.5,-747.5\" stroke=\"black\"/>\n",
       "<text font-family=\"Times New Roman,serif\" font-size=\"14.00\" text-anchor=\"middle\" x=\"97.5\" y=\"-766.8\">max_pooling2d: MaxPooling2D</text>\n",
       "<polyline fill=\"none\" points=\"194.5,-747.5 194.5,-793.5 \" stroke=\"black\"/>\n",
       "<text font-family=\"Times New Roman,serif\" font-size=\"14.00\" text-anchor=\"middle\" x=\"222.5\" y=\"-778.3\">input:</text>\n",
       "<polyline fill=\"none\" points=\"194.5,-770.5 250.5,-770.5 \" stroke=\"black\"/>\n",
       "<text font-family=\"Times New Roman,serif\" font-size=\"14.00\" text-anchor=\"middle\" x=\"222.5\" y=\"-755.3\">output:</text>\n",
       "<polyline fill=\"none\" points=\"250.5,-747.5 250.5,-793.5 \" stroke=\"black\"/>\n",
       "<text font-family=\"Times New Roman,serif\" font-size=\"14.00\" text-anchor=\"middle\" x=\"298\" y=\"-778.3\">(?, 24, 24, 32)</text>\n",
       "<polyline fill=\"none\" points=\"250.5,-770.5 345.5,-770.5 \" stroke=\"black\"/>\n",
       "<text font-family=\"Times New Roman,serif\" font-size=\"14.00\" text-anchor=\"middle\" x=\"298\" y=\"-755.3\">(?, 12, 12, 32)</text>\n",
       "</g>\n",
       "<!-- 2572431406984&#45;&gt;2572431406856 -->\n",
       "<g class=\"edge\" id=\"edge3\"><title>2572431406984-&gt;2572431406856</title>\n",
       "<path d=\"M173,-830.366C173,-822.152 173,-812.658 173,-803.725\" fill=\"none\" stroke=\"black\"/>\n",
       "<polygon fill=\"black\" points=\"176.5,-803.607 173,-793.607 169.5,-803.607 176.5,-803.607\" stroke=\"black\"/>\n",
       "</g>\n",
       "<!-- 2571549696712 -->\n",
       "<g class=\"node\" id=\"node5\"><title>2571549696712</title>\n",
       "<polygon fill=\"none\" points=\"39.5,-664.5 39.5,-710.5 306.5,-710.5 306.5,-664.5 39.5,-664.5\" stroke=\"black\"/>\n",
       "<text font-family=\"Times New Roman,serif\" font-size=\"14.00\" text-anchor=\"middle\" x=\"97.5\" y=\"-683.8\">dropout: Dropout</text>\n",
       "<polyline fill=\"none\" points=\"155.5,-664.5 155.5,-710.5 \" stroke=\"black\"/>\n",
       "<text font-family=\"Times New Roman,serif\" font-size=\"14.00\" text-anchor=\"middle\" x=\"183.5\" y=\"-695.3\">input:</text>\n",
       "<polyline fill=\"none\" points=\"155.5,-687.5 211.5,-687.5 \" stroke=\"black\"/>\n",
       "<text font-family=\"Times New Roman,serif\" font-size=\"14.00\" text-anchor=\"middle\" x=\"183.5\" y=\"-672.3\">output:</text>\n",
       "<polyline fill=\"none\" points=\"211.5,-664.5 211.5,-710.5 \" stroke=\"black\"/>\n",
       "<text font-family=\"Times New Roman,serif\" font-size=\"14.00\" text-anchor=\"middle\" x=\"259\" y=\"-695.3\">(?, 12, 12, 32)</text>\n",
       "<polyline fill=\"none\" points=\"211.5,-687.5 306.5,-687.5 \" stroke=\"black\"/>\n",
       "<text font-family=\"Times New Roman,serif\" font-size=\"14.00\" text-anchor=\"middle\" x=\"259\" y=\"-672.3\">(?, 12, 12, 32)</text>\n",
       "</g>\n",
       "<!-- 2572431406856&#45;&gt;2571549696712 -->\n",
       "<g class=\"edge\" id=\"edge4\"><title>2572431406856-&gt;2571549696712</title>\n",
       "<path d=\"M173,-747.366C173,-739.152 173,-729.658 173,-720.725\" fill=\"none\" stroke=\"black\"/>\n",
       "<polygon fill=\"black\" points=\"176.5,-720.607 173,-710.607 169.5,-720.607 176.5,-720.607\" stroke=\"black\"/>\n",
       "</g>\n",
       "<!-- 2572431406280 -->\n",
       "<g class=\"node\" id=\"node6\"><title>2572431406280</title>\n",
       "<polygon fill=\"none\" points=\"34,-581.5 34,-627.5 312,-627.5 312,-581.5 34,-581.5\" stroke=\"black\"/>\n",
       "<text font-family=\"Times New Roman,serif\" font-size=\"14.00\" text-anchor=\"middle\" x=\"97.5\" y=\"-600.8\">conv2d_2: Conv2D</text>\n",
       "<polyline fill=\"none\" points=\"161,-581.5 161,-627.5 \" stroke=\"black\"/>\n",
       "<text font-family=\"Times New Roman,serif\" font-size=\"14.00\" text-anchor=\"middle\" x=\"189\" y=\"-612.3\">input:</text>\n",
       "<polyline fill=\"none\" points=\"161,-604.5 217,-604.5 \" stroke=\"black\"/>\n",
       "<text font-family=\"Times New Roman,serif\" font-size=\"14.00\" text-anchor=\"middle\" x=\"189\" y=\"-589.3\">output:</text>\n",
       "<polyline fill=\"none\" points=\"217,-581.5 217,-627.5 \" stroke=\"black\"/>\n",
       "<text font-family=\"Times New Roman,serif\" font-size=\"14.00\" text-anchor=\"middle\" x=\"264.5\" y=\"-612.3\">(?, 12, 12, 32)</text>\n",
       "<polyline fill=\"none\" points=\"217,-604.5 312,-604.5 \" stroke=\"black\"/>\n",
       "<text font-family=\"Times New Roman,serif\" font-size=\"14.00\" text-anchor=\"middle\" x=\"264.5\" y=\"-589.3\">(?, 10, 10, 64)</text>\n",
       "</g>\n",
       "<!-- 2571549696712&#45;&gt;2572431406280 -->\n",
       "<g class=\"edge\" id=\"edge5\"><title>2571549696712-&gt;2572431406280</title>\n",
       "<path d=\"M173,-664.366C173,-656.152 173,-646.658 173,-637.725\" fill=\"none\" stroke=\"black\"/>\n",
       "<polygon fill=\"black\" points=\"176.5,-637.607 173,-627.607 169.5,-637.607 176.5,-637.607\" stroke=\"black\"/>\n",
       "</g>\n",
       "<!-- 2571549696200 -->\n",
       "<g class=\"node\" id=\"node7\"><title>2571549696200</title>\n",
       "<polygon fill=\"none\" points=\"34,-498.5 34,-544.5 312,-544.5 312,-498.5 34,-498.5\" stroke=\"black\"/>\n",
       "<text font-family=\"Times New Roman,serif\" font-size=\"14.00\" text-anchor=\"middle\" x=\"97.5\" y=\"-517.8\">conv2d_3: Conv2D</text>\n",
       "<polyline fill=\"none\" points=\"161,-498.5 161,-544.5 \" stroke=\"black\"/>\n",
       "<text font-family=\"Times New Roman,serif\" font-size=\"14.00\" text-anchor=\"middle\" x=\"189\" y=\"-529.3\">input:</text>\n",
       "<polyline fill=\"none\" points=\"161,-521.5 217,-521.5 \" stroke=\"black\"/>\n",
       "<text font-family=\"Times New Roman,serif\" font-size=\"14.00\" text-anchor=\"middle\" x=\"189\" y=\"-506.3\">output:</text>\n",
       "<polyline fill=\"none\" points=\"217,-498.5 217,-544.5 \" stroke=\"black\"/>\n",
       "<text font-family=\"Times New Roman,serif\" font-size=\"14.00\" text-anchor=\"middle\" x=\"264.5\" y=\"-529.3\">(?, 10, 10, 64)</text>\n",
       "<polyline fill=\"none\" points=\"217,-521.5 312,-521.5 \" stroke=\"black\"/>\n",
       "<text font-family=\"Times New Roman,serif\" font-size=\"14.00\" text-anchor=\"middle\" x=\"264.5\" y=\"-506.3\">(?, 8, 8, 64)</text>\n",
       "</g>\n",
       "<!-- 2572431406280&#45;&gt;2571549696200 -->\n",
       "<g class=\"edge\" id=\"edge6\"><title>2572431406280-&gt;2571549696200</title>\n",
       "<path d=\"M173,-581.366C173,-573.152 173,-563.658 173,-554.725\" fill=\"none\" stroke=\"black\"/>\n",
       "<polygon fill=\"black\" points=\"176.5,-554.607 173,-544.607 169.5,-554.607 176.5,-554.607\" stroke=\"black\"/>\n",
       "</g>\n",
       "<!-- 2571599676936 -->\n",
       "<g class=\"node\" id=\"node8\"><title>2571599676936</title>\n",
       "<polygon fill=\"none\" points=\"0,-415.5 0,-461.5 346,-461.5 346,-415.5 0,-415.5\" stroke=\"black\"/>\n",
       "<text font-family=\"Times New Roman,serif\" font-size=\"14.00\" text-anchor=\"middle\" x=\"104.5\" y=\"-434.8\">max_pooling2d_1: MaxPooling2D</text>\n",
       "<polyline fill=\"none\" points=\"209,-415.5 209,-461.5 \" stroke=\"black\"/>\n",
       "<text font-family=\"Times New Roman,serif\" font-size=\"14.00\" text-anchor=\"middle\" x=\"237\" y=\"-446.3\">input:</text>\n",
       "<polyline fill=\"none\" points=\"209,-438.5 265,-438.5 \" stroke=\"black\"/>\n",
       "<text font-family=\"Times New Roman,serif\" font-size=\"14.00\" text-anchor=\"middle\" x=\"237\" y=\"-423.3\">output:</text>\n",
       "<polyline fill=\"none\" points=\"265,-415.5 265,-461.5 \" stroke=\"black\"/>\n",
       "<text font-family=\"Times New Roman,serif\" font-size=\"14.00\" text-anchor=\"middle\" x=\"305.5\" y=\"-446.3\">(?, 8, 8, 64)</text>\n",
       "<polyline fill=\"none\" points=\"265,-438.5 346,-438.5 \" stroke=\"black\"/>\n",
       "<text font-family=\"Times New Roman,serif\" font-size=\"14.00\" text-anchor=\"middle\" x=\"305.5\" y=\"-423.3\">(?, 4, 4, 64)</text>\n",
       "</g>\n",
       "<!-- 2571549696200&#45;&gt;2571599676936 -->\n",
       "<g class=\"edge\" id=\"edge7\"><title>2571549696200-&gt;2571599676936</title>\n",
       "<path d=\"M173,-498.366C173,-490.152 173,-480.658 173,-471.725\" fill=\"none\" stroke=\"black\"/>\n",
       "<polygon fill=\"black\" points=\"176.5,-471.607 173,-461.607 169.5,-471.607 176.5,-471.607\" stroke=\"black\"/>\n",
       "</g>\n",
       "<!-- 2571599649416 -->\n",
       "<g class=\"node\" id=\"node9\"><title>2571599649416</title>\n",
       "<polygon fill=\"none\" points=\"39.5,-332.5 39.5,-378.5 306.5,-378.5 306.5,-332.5 39.5,-332.5\" stroke=\"black\"/>\n",
       "<text font-family=\"Times New Roman,serif\" font-size=\"14.00\" text-anchor=\"middle\" x=\"104.5\" y=\"-351.8\">dropout_1: Dropout</text>\n",
       "<polyline fill=\"none\" points=\"169.5,-332.5 169.5,-378.5 \" stroke=\"black\"/>\n",
       "<text font-family=\"Times New Roman,serif\" font-size=\"14.00\" text-anchor=\"middle\" x=\"197.5\" y=\"-363.3\">input:</text>\n",
       "<polyline fill=\"none\" points=\"169.5,-355.5 225.5,-355.5 \" stroke=\"black\"/>\n",
       "<text font-family=\"Times New Roman,serif\" font-size=\"14.00\" text-anchor=\"middle\" x=\"197.5\" y=\"-340.3\">output:</text>\n",
       "<polyline fill=\"none\" points=\"225.5,-332.5 225.5,-378.5 \" stroke=\"black\"/>\n",
       "<text font-family=\"Times New Roman,serif\" font-size=\"14.00\" text-anchor=\"middle\" x=\"266\" y=\"-363.3\">(?, 4, 4, 64)</text>\n",
       "<polyline fill=\"none\" points=\"225.5,-355.5 306.5,-355.5 \" stroke=\"black\"/>\n",
       "<text font-family=\"Times New Roman,serif\" font-size=\"14.00\" text-anchor=\"middle\" x=\"266\" y=\"-340.3\">(?, 4, 4, 64)</text>\n",
       "</g>\n",
       "<!-- 2571599676936&#45;&gt;2571599649416 -->\n",
       "<g class=\"edge\" id=\"edge8\"><title>2571599676936-&gt;2571599649416</title>\n",
       "<path d=\"M173,-415.366C173,-407.152 173,-397.658 173,-388.725\" fill=\"none\" stroke=\"black\"/>\n",
       "<polygon fill=\"black\" points=\"176.5,-388.607 173,-378.607 169.5,-388.607 176.5,-388.607\" stroke=\"black\"/>\n",
       "</g>\n",
       "<!-- 2571549779208 -->\n",
       "<g class=\"node\" id=\"node10\"><title>2571549779208</title>\n",
       "<polygon fill=\"none\" points=\"57,-249.5 57,-295.5 289,-295.5 289,-249.5 57,-249.5\" stroke=\"black\"/>\n",
       "<text font-family=\"Times New Roman,serif\" font-size=\"14.00\" text-anchor=\"middle\" x=\"104.5\" y=\"-268.8\">flatten: Flatten</text>\n",
       "<polyline fill=\"none\" points=\"152,-249.5 152,-295.5 \" stroke=\"black\"/>\n",
       "<text font-family=\"Times New Roman,serif\" font-size=\"14.00\" text-anchor=\"middle\" x=\"180\" y=\"-280.3\">input:</text>\n",
       "<polyline fill=\"none\" points=\"152,-272.5 208,-272.5 \" stroke=\"black\"/>\n",
       "<text font-family=\"Times New Roman,serif\" font-size=\"14.00\" text-anchor=\"middle\" x=\"180\" y=\"-257.3\">output:</text>\n",
       "<polyline fill=\"none\" points=\"208,-249.5 208,-295.5 \" stroke=\"black\"/>\n",
       "<text font-family=\"Times New Roman,serif\" font-size=\"14.00\" text-anchor=\"middle\" x=\"248.5\" y=\"-280.3\">(?, 4, 4, 64)</text>\n",
       "<polyline fill=\"none\" points=\"208,-272.5 289,-272.5 \" stroke=\"black\"/>\n",
       "<text font-family=\"Times New Roman,serif\" font-size=\"14.00\" text-anchor=\"middle\" x=\"248.5\" y=\"-257.3\">(?, 1024)</text>\n",
       "</g>\n",
       "<!-- 2571599649416&#45;&gt;2571549779208 -->\n",
       "<g class=\"edge\" id=\"edge9\"><title>2571599649416-&gt;2571549779208</title>\n",
       "<path d=\"M173,-332.366C173,-324.152 173,-314.658 173,-305.725\" fill=\"none\" stroke=\"black\"/>\n",
       "<polygon fill=\"black\" points=\"176.5,-305.607 173,-295.607 169.5,-305.607 176.5,-305.607\" stroke=\"black\"/>\n",
       "</g>\n",
       "<!-- 2571599721288 -->\n",
       "<g class=\"node\" id=\"node11\"><title>2571599721288</title>\n",
       "<polygon fill=\"none\" points=\"67,-166.5 67,-212.5 279,-212.5 279,-166.5 67,-166.5\" stroke=\"black\"/>\n",
       "<text font-family=\"Times New Roman,serif\" font-size=\"14.00\" text-anchor=\"middle\" x=\"112\" y=\"-185.8\">dense: Dense</text>\n",
       "<polyline fill=\"none\" points=\"157,-166.5 157,-212.5 \" stroke=\"black\"/>\n",
       "<text font-family=\"Times New Roman,serif\" font-size=\"14.00\" text-anchor=\"middle\" x=\"185\" y=\"-197.3\">input:</text>\n",
       "<polyline fill=\"none\" points=\"157,-189.5 213,-189.5 \" stroke=\"black\"/>\n",
       "<text font-family=\"Times New Roman,serif\" font-size=\"14.00\" text-anchor=\"middle\" x=\"185\" y=\"-174.3\">output:</text>\n",
       "<polyline fill=\"none\" points=\"213,-166.5 213,-212.5 \" stroke=\"black\"/>\n",
       "<text font-family=\"Times New Roman,serif\" font-size=\"14.00\" text-anchor=\"middle\" x=\"246\" y=\"-197.3\">(?, 1024)</text>\n",
       "<polyline fill=\"none\" points=\"213,-189.5 279,-189.5 \" stroke=\"black\"/>\n",
       "<text font-family=\"Times New Roman,serif\" font-size=\"14.00\" text-anchor=\"middle\" x=\"246\" y=\"-174.3\">(?, 256)</text>\n",
       "</g>\n",
       "<!-- 2571549779208&#45;&gt;2571599721288 -->\n",
       "<g class=\"edge\" id=\"edge10\"><title>2571549779208-&gt;2571599721288</title>\n",
       "<path d=\"M173,-249.366C173,-241.152 173,-231.658 173,-222.725\" fill=\"none\" stroke=\"black\"/>\n",
       "<polygon fill=\"black\" points=\"176.5,-222.607 173,-212.607 169.5,-222.607 176.5,-222.607\" stroke=\"black\"/>\n",
       "</g>\n",
       "<!-- 2571682838728 -->\n",
       "<g class=\"node\" id=\"node12\"><title>2571682838728</title>\n",
       "<polygon fill=\"none\" points=\"50.5,-83.5 50.5,-129.5 295.5,-129.5 295.5,-83.5 50.5,-83.5\" stroke=\"black\"/>\n",
       "<text font-family=\"Times New Roman,serif\" font-size=\"14.00\" text-anchor=\"middle\" x=\"115.5\" y=\"-102.8\">dropout_2: Dropout</text>\n",
       "<polyline fill=\"none\" points=\"180.5,-83.5 180.5,-129.5 \" stroke=\"black\"/>\n",
       "<text font-family=\"Times New Roman,serif\" font-size=\"14.00\" text-anchor=\"middle\" x=\"208.5\" y=\"-114.3\">input:</text>\n",
       "<polyline fill=\"none\" points=\"180.5,-106.5 236.5,-106.5 \" stroke=\"black\"/>\n",
       "<text font-family=\"Times New Roman,serif\" font-size=\"14.00\" text-anchor=\"middle\" x=\"208.5\" y=\"-91.3\">output:</text>\n",
       "<polyline fill=\"none\" points=\"236.5,-83.5 236.5,-129.5 \" stroke=\"black\"/>\n",
       "<text font-family=\"Times New Roman,serif\" font-size=\"14.00\" text-anchor=\"middle\" x=\"266\" y=\"-114.3\">(?, 256)</text>\n",
       "<polyline fill=\"none\" points=\"236.5,-106.5 295.5,-106.5 \" stroke=\"black\"/>\n",
       "<text font-family=\"Times New Roman,serif\" font-size=\"14.00\" text-anchor=\"middle\" x=\"266\" y=\"-91.3\">(?, 256)</text>\n",
       "</g>\n",
       "<!-- 2571599721288&#45;&gt;2571682838728 -->\n",
       "<g class=\"edge\" id=\"edge11\"><title>2571599721288-&gt;2571682838728</title>\n",
       "<path d=\"M173,-166.366C173,-158.152 173,-148.658 173,-139.725\" fill=\"none\" stroke=\"black\"/>\n",
       "<polygon fill=\"black\" points=\"176.5,-139.607 173,-129.607 169.5,-139.607 176.5,-139.607\" stroke=\"black\"/>\n",
       "</g>\n",
       "<!-- 2571682837704 -->\n",
       "<g class=\"node\" id=\"node13\"><title>2571682837704</title>\n",
       "<polygon fill=\"none\" points=\"63.5,-0.5 63.5,-46.5 282.5,-46.5 282.5,-0.5 63.5,-0.5\" stroke=\"black\"/>\n",
       "<text font-family=\"Times New Roman,serif\" font-size=\"14.00\" text-anchor=\"middle\" x=\"115.5\" y=\"-19.8\">dense_1: Dense</text>\n",
       "<polyline fill=\"none\" points=\"167.5,-0.5 167.5,-46.5 \" stroke=\"black\"/>\n",
       "<text font-family=\"Times New Roman,serif\" font-size=\"14.00\" text-anchor=\"middle\" x=\"195.5\" y=\"-31.3\">input:</text>\n",
       "<polyline fill=\"none\" points=\"167.5,-23.5 223.5,-23.5 \" stroke=\"black\"/>\n",
       "<text font-family=\"Times New Roman,serif\" font-size=\"14.00\" text-anchor=\"middle\" x=\"195.5\" y=\"-8.3\">output:</text>\n",
       "<polyline fill=\"none\" points=\"223.5,-0.5 223.5,-46.5 \" stroke=\"black\"/>\n",
       "<text font-family=\"Times New Roman,serif\" font-size=\"14.00\" text-anchor=\"middle\" x=\"253\" y=\"-31.3\">(?, 256)</text>\n",
       "<polyline fill=\"none\" points=\"223.5,-23.5 282.5,-23.5 \" stroke=\"black\"/>\n",
       "<text font-family=\"Times New Roman,serif\" font-size=\"14.00\" text-anchor=\"middle\" x=\"253\" y=\"-8.3\">(?, 43)</text>\n",
       "</g>\n",
       "<!-- 2571682838728&#45;&gt;2571682837704 -->\n",
       "<g class=\"edge\" id=\"edge12\"><title>2571682838728-&gt;2571682837704</title>\n",
       "<path d=\"M173,-83.3664C173,-75.1516 173,-65.6579 173,-56.7252\" fill=\"none\" stroke=\"black\"/>\n",
       "<polygon fill=\"black\" points=\"176.5,-56.6068 173,-46.6068 169.5,-56.6069 176.5,-56.6068\" stroke=\"black\"/>\n",
       "</g>\n",
       "</g>\n",
       "</svg>"
      ],
      "text/plain": [
       "<IPython.core.display.SVG object>"
      ]
     },
     "execution_count": 9,
     "metadata": {},
     "output_type": "execute_result"
    }
   ],
   "source": [
    "from IPython.display import SVG\n",
    "from tensorflow.keras.utils import model_to_dot\n",
    "\n",
    "print('[INFO] Model Visualization')\n",
    "SVG(model_to_dot(model, show_shapes=True, show_layer_names=True, dpi=60).create(prog='dot', format='svg'))"
   ]
  },
  {
   "cell_type": "markdown",
   "metadata": {},
   "source": [
    "## Training and Saving the Model"
   ]
  },
  {
   "cell_type": "code",
   "execution_count": 10,
   "metadata": {
    "scrolled": false
   },
   "outputs": [
    {
     "name": "stdout",
     "output_type": "stream",
     "text": [
      "[INFO] Training the model...\n",
      "WARNING:tensorflow:sample_weight modes were coerced from\n",
      "  ...\n",
      "    to  \n",
      "  ['...']\n"
     ]
    },
    {
     "name": "stderr",
     "output_type": "stream",
     "text": [
      "C:\\Users\\Richa\\Anaconda3\\envs\\data_science\\lib\\site-packages\\keras_preprocessing\\image\\image_data_generator.py:716: UserWarning: This ImageDataGenerator specifies `featurewise_center`, but it hasn't been fit on any training data. Fit it first by calling `.fit(numpy_data)`.\n",
      "  warnings.warn('This ImageDataGenerator specifies '\n",
      "C:\\Users\\Richa\\Anaconda3\\envs\\data_science\\lib\\site-packages\\keras_preprocessing\\image\\image_data_generator.py:735: UserWarning: This ImageDataGenerator specifies `zca_whitening`, but it hasn't been fit on any training data. Fit it first by calling `.fit(numpy_data)`.\n",
      "  warnings.warn('This ImageDataGenerator specifies '\n"
     ]
    },
    {
     "name": "stdout",
     "output_type": "stream",
     "text": [
      "Train for 490 steps, validate on 7842 samples\n",
      "Epoch 1/15\n"
     ]
    },
    {
     "name": "stderr",
     "output_type": "stream",
     "text": [
      "C:\\Users\\Richa\\Anaconda3\\envs\\data_science\\lib\\site-packages\\keras_preprocessing\\image\\image_data_generator.py:716: UserWarning: This ImageDataGenerator specifies `featurewise_center`, but it hasn't been fit on any training data. Fit it first by calling `.fit(numpy_data)`.\n",
      "  warnings.warn('This ImageDataGenerator specifies '\n",
      "C:\\Users\\Richa\\Anaconda3\\envs\\data_science\\lib\\site-packages\\keras_preprocessing\\image\\image_data_generator.py:735: UserWarning: This ImageDataGenerator specifies `zca_whitening`, but it hasn't been fit on any training data. Fit it first by calling `.fit(numpy_data)`.\n",
      "  warnings.warn('This ImageDataGenerator specifies '\n"
     ]
    },
    {
     "name": "stdout",
     "output_type": "stream",
     "text": [
      "490/490 [==============================] - 76s 155ms/step - loss: 2.1574 - accuracy: 0.3757 - val_loss: 0.6543 - val_accuracy: 0.7707\n",
      "Epoch 2/15\n",
      "490/490 [==============================] - 73s 149ms/step - loss: 0.8585 - accuracy: 0.7261 - val_loss: 0.1853 - val_accuracy: 0.9453\n",
      "Epoch 3/15\n",
      "490/490 [==============================] - 68s 139ms/step - loss: 0.5209 - accuracy: 0.8322 - val_loss: 0.1091 - val_accuracy: 0.9594\n",
      "Epoch 4/15\n",
      "490/490 [==============================] - 72s 146ms/step - loss: 0.3983 - accuracy: 0.8722 - val_loss: 0.0726 - val_accuracy: 0.9764\n",
      "Epoch 5/15\n",
      "490/490 [==============================] - 72s 147ms/step - loss: 0.3171 - accuracy: 0.8998 - val_loss: 0.0497 - val_accuracy: 0.9839\n",
      "Epoch 6/15\n",
      "490/490 [==============================] - 68s 138ms/step - loss: 0.2723 - accuracy: 0.9154 - val_loss: 0.0469 - val_accuracy: 0.9850\n",
      "Epoch 7/15\n",
      "490/490 [==============================] - 74s 152ms/step - loss: 0.2341 - accuracy: 0.9240 - val_loss: 0.0396 - val_accuracy: 0.9867\n",
      "Epoch 8/15\n",
      "490/490 [==============================] - 71s 145ms/step - loss: 0.2046 - accuracy: 0.9365 - val_loss: 0.0251 - val_accuracy: 0.9925\n",
      "Epoch 9/15\n",
      "490/490 [==============================] - 68s 138ms/step - loss: 0.1866 - accuracy: 0.9407 - val_loss: 0.0238 - val_accuracy: 0.9917\n",
      "Epoch 10/15\n",
      "490/490 [==============================] - 74s 150ms/step - loss: 0.1674 - accuracy: 0.9479 - val_loss: 0.0219 - val_accuracy: 0.9935\n",
      "Epoch 11/15\n",
      "490/490 [==============================] - 69s 142ms/step - loss: 0.1507 - accuracy: 0.9525 - val_loss: 0.0207 - val_accuracy: 0.9935\n",
      "Epoch 12/15\n",
      "490/490 [==============================] - 69s 141ms/step - loss: 0.1389 - accuracy: 0.9572 - val_loss: 0.0174 - val_accuracy: 0.9950\n",
      "Epoch 13/15\n",
      "490/490 [==============================] - 70s 144ms/step - loss: 0.1332 - accuracy: 0.9580 - val_loss: 0.0174 - val_accuracy: 0.9945\n",
      "Epoch 14/15\n",
      "490/490 [==============================] - 68s 138ms/step - loss: 0.1274 - accuracy: 0.9610 - val_loss: 0.0163 - val_accuracy: 0.9941\n",
      "Epoch 15/15\n",
      "490/490 [==============================] - 68s 139ms/step - loss: 0.1138 - accuracy: 0.9651 - val_loss: 0.0162 - val_accuracy: 0.9953\n",
      "[INFO] Saved trained model to disk\n"
     ]
    }
   ],
   "source": [
    "# apply the augmentation and fit the model\n",
    "print('[INFO] Training the model...')\n",
    "history = model.fit(aug.flow(x_train, y_train, batch_size=BS), \n",
    "                    steps_per_epoch=x_train.shape[0] // BS, \n",
    "                    epochs=NUM_EPOCHS, \n",
    "                    validation_data=(x_test, y_test),\n",
    "                    class_weight=class_weight,\n",
    "                    verbose=1)\n",
    "\n",
    "# save trained model to disk\n",
    "model.save('ModelC_traffic_signnet_enhanced.h5')\n",
    "print('[INFO] Saved trained model to disk')"
   ]
  },
  {
   "cell_type": "markdown",
   "metadata": {},
   "source": [
    "## Plotting Accuracy vs Epoch and Loss vs Epoch Graphs for the Model"
   ]
  },
  {
   "cell_type": "code",
   "execution_count": 11,
   "metadata": {},
   "outputs": [
    {
     "data": {
      "image/png": "[encoded data removed]",
      "text/plain": [
       "<Figure size 600x400 with 1 Axes>"
      ]
     },
     "metadata": {
      "needs_background": "light"
     },
     "output_type": "display_data"
    },
    {
     "data": {
      "image/png": "[encoded data removed]",
      "text/plain": [
       "<Figure size 600x400 with 1 Axes>"
      ]
     },
     "metadata": {
      "needs_background": "light"
     },
     "output_type": "display_data"
    }
   ],
   "source": [
    "plt.figure(0, dpi=100)\n",
    "plt.plot(history.history['accuracy'], label='training accuracy')\n",
    "plt.plot(history.history['val_accuracy'], label='val accuracy')\n",
    "plt.title('Accuracy')\n",
    "plt.xlabel('epochs')\n",
    "plt.ylabel('accuracy')\n",
    "plt.legend()\n",
    "plt.show()\n",
    "\n",
    "plt.figure(1, dpi=100)\n",
    "plt.plot(history.history['loss'], label='training loss')\n",
    "plt.plot(history.history['val_loss'], label='val loss')\n",
    "plt.title('Loss')\n",
    "plt.xlabel('epochs')\n",
    "plt.ylabel('loss')\n",
    "plt.legend()\n",
    "plt.show()"
   ]
  },
  {
   "cell_type": "markdown",
   "metadata": {},
   "source": [
    "## Calculating Accuracy Score for the Model"
   ]
  },
  {
   "cell_type": "code",
   "execution_count": 12,
   "metadata": {},
   "outputs": [
    {
     "name": "stdout",
     "output_type": "stream",
     "text": [
      "97.736%\n"
     ]
    }
   ],
   "source": [
    "# Testing the model\n",
    "\n",
    "from sklearn.metrics import accuracy_score\n",
    "\n",
    "test = pd.read_csv(os.path.join(dataset_dir, 'Test.csv'))\n",
    "\n",
    "labels = test[\"ClassId\"].values\n",
    "img_paths = test[\"Path\"].values\n",
    "\n",
    "test_data = []\n",
    "for path in img_paths:\n",
    "    image = io.imread(os.path.join(dataset_dir, path))\n",
    "    image = transform.resize(image, (32, 32))\n",
    "    image = exposure.equalize_adapthist(image, clip_limit=0.1)\n",
    "    test_data.append(np.array(image))\n",
    "\n",
    "test_data = np.array(test_data)\n",
    "pred = model.predict_classes(test_data)\n",
    "\n",
    "# Accuracy with test data\n",
    "\n",
    "score = accuracy_score(labels, pred)\n",
    "print(f\"{score:.3%}\")"
   ]
  },
  {
   "cell_type": "markdown",
   "metadata": {},
   "source": [
    "## Evaluating the Model"
   ]
  },
  {
   "cell_type": "code",
   "execution_count": null,
   "metadata": {},
   "outputs": [],
   "source": [
    "from sklearn.metrics import classification_report\n",
    "\n",
    "# load the label names\n",
    "label_names = open(\"signnames.csv\").read().strip().split(\"\\n\")[1:]\n",
    "label_names = [l.split(\",\")[1] for l in label_names]\n",
    "\n",
    "# evaluate the network\n",
    "print(\"[INFO] Evaluating network...\")\n",
    "predictions = model.predict(x_test, batch_size=BS)\n",
    "print(classification_report(y_test.argmax(axis=1), predictions.argmax(axis=1), target_names=label_names))"
   ]
  },
  {
   "cell_type": "code",
   "execution_count": null,
   "metadata": {},
   "outputs": [],
   "source": []
  }
 ],
 "metadata": {
  "kernelspec": {
   "display_name": "Python 3",
   "language": "python",
   "name": "python3"
  },
  "language_info": {
   "codemirror_mode": {
    "name": "ipython",
    "version": 3
   },
   "file_extension": ".py",
   "mimetype": "text/x-python",
   "name": "python",
   "nbconvert_exporter": "python",
   "pygments_lexer": "ipython3",
   "version": "3.7.7"
  }
 },
 "nbformat": 4,
 "nbformat_minor": 4
}
